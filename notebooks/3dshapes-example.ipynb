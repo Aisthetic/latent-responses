{
 "cells": [
  {
   "cell_type": "code",
   "execution_count": null,
   "id": "903368e8",
   "metadata": {
    "pycharm": {
     "is_executing": true,
     "name": "#%%\n"
    }
   },
   "outputs": [],
   "source": [
    "import os\n",
    "from pathlib import Path\n",
    "if '_cwd' not in locals():\n",
    "    _cwd = os.getcwd()\n",
    "    os.chdir(Path(_cwd)/'..')\n",
    "import numpy as np\n",
    "from tqdm.notebook import tqdm\n",
    "import torch\n",
    "from torch import nn, optim as opt\n",
    "import torch.nn.functional as F\n",
    "import torch.distributions as distrib\n",
    "from torch.utils.data import Dataset, DataLoader, TensorDataset\n",
    "\n",
    "%matplotlib notebook\n",
    "import matplotlib.pyplot as plt\n",
    "\n",
    "from src.shapes import ShapesVAE, Shapes3D\n",
    "from src.responses import response_mat, conditioned_response_mat, score_from_conditioned_response_mat\n",
    "from src.maps import response_map_2d, compute_divergence_2d, compute_mean_curvature_2d, plot_map, \\\n",
    "    plot_posterior_2d, collect_posterior_means, push_forward, generate_2d_latent_map, plot_recs\n",
    "from src import utils"
   ]
  },
  {
   "cell_type": "code",
   "execution_count": null,
   "id": "8aa63393",
   "metadata": {
    "pycharm": {
     "name": "#%%\n"
    }
   },
   "outputs": [],
   "source": [
    "device = 'cuda'\n",
    "torch.manual_seed(67280421310721);"
   ]
  },
  {
   "cell_type": "markdown",
   "id": "864e91af",
   "metadata": {
    "pycharm": {
     "name": "#%% md\n"
    }
   },
   "source": [
    "# Loading the Model"
   ]
  },
  {
   "cell_type": "code",
   "execution_count": null,
   "id": "3a31cfc1",
   "metadata": {
    "pycharm": {
     "is_executing": true,
     "name": "#%%\n"
    },
    "scrolled": true
   },
   "outputs": [],
   "source": [
    "model = ShapesVAE()\n",
    "model.load_state_dict(torch.load('model_a.pt'))\n",
    "for _p in model.parameters(): _p.requires_grad = False\n",
    "model.to(device)"
   ]
  },
  {
   "cell_type": "markdown",
   "id": "849cfa36",
   "metadata": {
    "pycharm": {
     "name": "#%% md\n"
    }
   },
   "source": [
    "# Loading the Data"
   ]
  },
  {
   "cell_type": "code",
   "execution_count": null,
   "id": "6f8b07f6",
   "metadata": {
    "pycharm": {
     "name": "#%%\n"
    }
   },
   "outputs": [],
   "source": [
    "# data = Shapes3D(download=False, root=r'C:\\Users\\anwan\\Documents\\workspace\\local_data\\3dshapes')\n",
    "data = Shapes3D(download=False)\n",
    "len(data)"
   ]
  },
  {
   "cell_type": "code",
   "execution_count": null,
   "id": "75e22160",
   "metadata": {
    "pycharm": {
     "name": "#%%\n"
    }
   },
   "outputs": [],
   "source": [
    "X, _ = data[torch.randint(len(data), size=(16,))]\n",
    "print('Example Observations')\n",
    "utils.plot_imgs(X, H=2, figsize=(8,2));"
   ]
  },
  {
   "cell_type": "code",
   "execution_count": null,
   "id": "e095b1ed",
   "metadata": {
    "pycharm": {
     "name": "#%%\n"
    }
   },
   "outputs": [],
   "source": [
    "R = model.reconstruct(X.cuda()).cpu()\n",
    "print('Reconstructions')\n",
    "utils.plot_imgs(R, H=2, figsize=(8,2));"
   ]
  },
  {
   "cell_type": "markdown",
   "id": "d0788157",
   "metadata": {
    "pycharm": {
     "name": "#%% md\n"
    }
   },
   "source": [
    "# Latent Response Matrix\n",
    "\n",
    "By intervening on one latent dimension at a time and measuring the response, we can identify how the latent dimensions affect one another. "
   ]
  },
  {
   "cell_type": "code",
   "execution_count": null,
   "id": "ec1529b5",
   "metadata": {
    "pycharm": {
     "name": "#%%\n"
    }
   },
   "outputs": [],
   "source": [
    "mat = response_mat(model, device=device, pbar=tqdm, num_samples=128)\n",
    "mat.shape"
   ]
  },
  {
   "cell_type": "code",
   "execution_count": null,
   "id": "903e17ac",
   "metadata": {
    "pycharm": {
     "name": "#%%\n"
    }
   },
   "outputs": [],
   "source": [
    "utils.plot_mat(mat, val_fmt='.1f', figside=0.3,);\n",
    "plt.ylabel('Intervention')\n",
    "plt.xlabel('Response')\n",
    "plt.tight_layout();"
   ]
  },
  {
   "cell_type": "markdown",
   "id": "436dbde2",
   "metadata": {
    "pycharm": {
     "name": "#%% md\n"
    }
   },
   "source": [
    "# Conditioned Response Matrix and Causal Disentanglement Score\n",
    "\n",
    "When the ground truth generative process is available (such as with synthetic datasets like 3D-Shapes), we can condition the interventions used to compute the latent response matrix on individual true factors to compute the \"conditioned response matrix\"."
   ]
  },
  {
   "cell_type": "code",
   "execution_count": null,
   "id": "63596af4",
   "metadata": {
    "pycharm": {
     "name": "#%%\n"
    }
   },
   "outputs": [],
   "source": [
    "utils.plot_imgs(data.factor_traversal_images('shape'), H=1, figsize=(8,2));"
   ]
  },
  {
   "cell_type": "code",
   "execution_count": null,
   "id": "f1f384ba",
   "metadata": {
    "pycharm": {
     "name": "#%%\n"
    }
   },
   "outputs": [],
   "source": [
    "cond_mat = conditioned_response_mat(model, data, device=device, num_traversals=20, pbar=tqdm)\n",
    "cond_mat.shape"
   ]
  },
  {
   "cell_type": "code",
   "execution_count": null,
   "id": "028f0778",
   "metadata": {
    "pycharm": {
     "name": "#%%\n"
    }
   },
   "outputs": [],
   "source": [
    "utils.plot_mat(cond_mat, val_fmt='.1f', figside=0.3,);\n",
    "plt.yticks(range(len(data.factor_order)), data.factor_order)\n",
    "plt.xlabel('Latent dimension');\n",
    "plt.tight_layout();"
   ]
  },
  {
   "cell_type": "code",
   "execution_count": null,
   "id": "342c17a9",
   "metadata": {
    "pycharm": {
     "name": "#%%\n"
    }
   },
   "outputs": [],
   "source": [
    "score = score_from_conditioned_response_mat(cond_mat)\n",
    "print(f'Causal Disentanglement Score: {score:2.4f}')"
   ]
  },
  {
   "cell_type": "markdown",
   "id": "79ec8f4c",
   "metadata": {
    "pycharm": {
     "name": "#%% md\n"
    }
   },
   "source": [
    "# Response Maps"
   ]
  },
  {
   "cell_type": "code",
   "execution_count": null,
   "id": "98b8d279",
   "metadata": {
    "pycharm": {
     "name": "#%%\n"
    }
   },
   "outputs": [],
   "source": [
    "dims = 4, 21"
   ]
  },
  {
   "cell_type": "code",
   "execution_count": null,
   "id": "a1eed07e",
   "metadata": {
    "pycharm": {
     "name": "#%%\n"
    }
   },
   "outputs": [],
   "source": [
    "r = 2\n",
    "n = 100\n",
    "extent = [-r, r, -r, r]\n",
    "base = model.sample_prior()\n",
    "umap = response_map_2d(model, *dims, base=base, n=n, extent=extent, batch_size=256, device=device, pbar=tqdm)\n",
    "mmap = umap.norm(p=2,dim=-1)\n",
    "dmap = compute_divergence_2d(umap)\n",
    "cmap = compute_mean_curvature_2d(umap)"
   ]
  },
  {
   "cell_type": "code",
   "execution_count": null,
   "id": "c84c97b6",
   "metadata": {
    "pycharm": {
     "name": "#%%\n"
    }
   },
   "outputs": [],
   "source": [
    "# Collect posterior samples for the histogram\n",
    "Z = collect_posterior_means(model, data, num_samples=2048, device=device, batch_size=256, pbar=tqdm)"
   ]
  },
  {
   "cell_type": "code",
   "execution_count": null,
   "id": "ab753cc2",
   "metadata": {
    "pycharm": {
     "name": "#%%\n"
    }
   },
   "outputs": [],
   "source": [
    "im_kwargs = dict(aspect = 'auto', extent=extent)\n",
    "fg, axs = plt.subplots(1,4, figsize=(9,2.5),sharex=True, sharey=True)\n",
    "plot_map(mmap, fgax=(fg,axs[0]), rescale=False, colorbar=False, **im_kwargs);\n",
    "plt.title('Magnitude of Response')\n",
    "plt.ylabel(f'Dimension {dims[1]}')\n",
    "plt.xlabel(f'Dimension {dims[0]}')\n",
    "\n",
    "plot_map(dmap, fgax=(fg,axs[1]), cmap='seismic', colorbar=True, **im_kwargs);\n",
    "plt.title('Divergence')\n",
    "plt.xlabel(f'Dimension {dims[0]}')\n",
    "\n",
    "plot_map(cmap, fgax=(fg,axs[2]), cmap='viridis', colorbar=True, **im_kwargs);\n",
    "plt.title('Mean Curvature')\n",
    "plt.xlabel(f'Dimension {dims[0]}')\n",
    "\n",
    "plot_posterior_2d(Z, *dims, fgax=(fg,axs[3]), bins=n//2, extent=extent)\n",
    "plt.title('Posterior')\n",
    "plt.xlabel(f'Dimension {dims[0]}')\n",
    "plt.tight_layout();"
   ]
  },
  {
   "cell_type": "markdown",
   "id": "ff3d75de",
   "metadata": {
    "pycharm": {
     "name": "#%% md\n"
    }
   },
   "source": [
    "And the decoded observations corresponding the same slice of the latent space."
   ]
  },
  {
   "cell_type": "code",
   "execution_count": null,
   "id": "871f199e",
   "metadata": {
    "pycharm": {
     "name": "#%%\n"
    }
   },
   "outputs": [],
   "source": [
    "plot_recs(model, *dims, base=base, n=10, extent=extent, batch_size=256, device=device, pbar=tqdm);"
   ]
  }
 ],
 "metadata": {
  "kernelspec": {
   "display_name": "Python 3",
   "language": "python",
   "name": "python3"
  },
  "language_info": {
   "codemirror_mode": {
    "name": "ipython",
    "version": 3
   },
   "file_extension": ".py",
   "mimetype": "text/x-python",
   "name": "python",
   "nbconvert_exporter": "python",
   "pygments_lexer": "ipython3",
   "version": "3.8.8"
  }
 },
 "nbformat": 4,
 "nbformat_minor": 5
}