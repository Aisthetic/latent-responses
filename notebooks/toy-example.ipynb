{
 "cells": [
  {
   "cell_type": "code",
   "execution_count": null,
   "id": "19fd61ad",
   "metadata": {
    "pycharm": {
     "name": "#%%\n"
    }
   },
   "outputs": [],
   "source": [
    "import os\n",
    "from pathlib import Path\n",
    "if '_cwd' not in locals():\n",
    "    _cwd = os.getcwd()\n",
    "    os.chdir(Path(_cwd)/'..')\n",
    "import numpy as np\n",
    "from tqdm.notebook import tqdm\n",
    "import torch\n",
    "from torch import nn, optim as opt\n",
    "import torch.nn.functional as F\n",
    "import torch.distributions as distrib\n",
    "from torch.utils.data import Dataset, DataLoader, TensorDataset\n",
    "\n",
    "%matplotlib notebook\n",
    "import matplotlib.pyplot as plt\n",
    "\n",
    "from src.helix import helix_labels, helix_observations, ToyVAE"
   ]
  },
  {
   "cell_type": "markdown",
   "id": "0da14d07",
   "metadata": {
    "pycharm": {
     "name": "#%% md\n"
    }
   },
   "source": [
    "# Double Helix Dataset"
   ]
  },
  {
   "cell_type": "code",
   "execution_count": null,
   "id": "07153055",
   "metadata": {
    "pycharm": {
     "name": "#%%\n"
    }
   },
   "outputs": [],
   "source": [
    "# hyperparameters\n",
    "\n",
    "device = 'cuda' if torch.cuda.is_available() else 'cpu'\n",
    "num_training_samples = 1024\n",
    "nhelix = 2\n",
    "gen = torch.Generator().manual_seed(67280421310721)"
   ]
  },
  {
   "cell_type": "code",
   "execution_count": null,
   "id": "31a24622",
   "metadata": {
    "pycharm": {
     "name": "#%%\n"
    }
   },
   "outputs": [],
   "source": [
    "Y = helix_labels(num_training_samples, strands=nhelix, gen=gen).to(device)\n",
    "X = helix_observations(Y, w=1., Rx=1., Ry=1., Rz=1.)\n",
    "Y.shape, X.shape"
   ]
  },
  {
   "cell_type": "code",
   "execution_count": null,
   "id": "e6df32c0",
   "metadata": {
    "pycharm": {
     "name": "#%%\n"
    }
   },
   "outputs": [],
   "source": [
    "# plt.figure()\n",
    "# data_ax = plt.axes(projection='3d')\n",
    "# plt.plot(*X.cpu().t(), ls='', marker='.', c='k', ms=1, );"
   ]
  },
  {
   "cell_type": "markdown",
   "id": "e93b22f8",
   "metadata": {
    "pycharm": {
     "name": "#%% md\n"
    }
   },
   "source": [
    "# Model Definition and Training"
   ]
  },
  {
   "cell_type": "code",
   "execution_count": null,
   "id": "87a4bfe6",
   "metadata": {
    "pycharm": {
     "name": "#%%\n"
    }
   },
   "outputs": [],
   "source": [
    "# Hyperparameters\n",
    "\n",
    "budget = 5000\n",
    "batch_size = 128\n",
    "\n",
    "latent_dim = 2\n",
    "\n",
    "\n",
    "beta = 0.05\n",
    "hidden_dims = [32, 32, 32, 32]\n",
    "nonlin = nn.ELU\n",
    "\n",
    "optim_type = opt.Adam\n",
    "lr = 0.01"
   ]
  },
  {
   "cell_type": "code",
   "execution_count": null,
   "id": "1a7c6f46",
   "metadata": {
    "pycharm": {
     "name": "#%%\n"
    }
   },
   "outputs": [],
   "source": [
    "torch.manual_seed(gen.initial_seed())\n",
    "model = ToyVAE(obs_dim=X.size(1), latent_dim=2, beta=beta, hidden=hidden_dims, nonlin=nonlin)\n",
    "model.to(device)\n",
    "optimizer = optim_type(model.parameters(), lr=lr, betas=(0.9, 0.999), eps=1e-08, amsgrad=True,)\n",
    "print(model)"
   ]
  },
  {
   "cell_type": "code",
   "execution_count": null,
   "id": "662797e3",
   "metadata": {
    "pycharm": {
     "name": "#%%\n"
    }
   },
   "outputs": [],
   "source": [
    "dataloader = DataLoader(TensorDataset(X), batch_size=batch_size, shuffle=True)\n",
    "loader = iter([])\n",
    "losses = []"
   ]
  },
  {
   "cell_type": "code",
   "execution_count": null,
   "id": "1916469a",
   "metadata": {
    "pycharm": {
     "name": "#%%\n"
    }
   },
   "outputs": [],
   "source": [
    "model.train()\n",
    "itr = tqdm(range(budget))\n",
    "if len(losses):\n",
    "    itr.set_description(f'{losses[-1]:.3f}')\n",
    "for i in itr:\n",
    "    try:\n",
    "        batch = next(loader)\n",
    "    except StopIteration:\n",
    "        loader = iter(dataloader)\n",
    "        batch = next(loader)\n",
    "    \n",
    "    x, = batch\n",
    "    x = x.to(device)\n",
    "    loss, info = model(x)\n",
    "    \n",
    "    optimizer.zero_grad()\n",
    "    loss.backward()\n",
    "    optimizer.step()\n",
    "    \n",
    "    losses.append(info['rec_loss'].mean().item())\n",
    "    itr.set_description(f'Loss: {np.mean(losses[-100:]):.3f}')\n",
    "# plt.figure()\n",
    "# plt.plot(losses);"
   ]
  },
  {
   "cell_type": "code",
   "execution_count": null,
   "id": "d0f9cc9f",
   "metadata": {
    "pycharm": {
     "name": "#%%\n"
    }
   },
   "outputs": [],
   "source": [
    "model.eval()\n",
    "with torch.no_grad():\n",
    "    Z = model.encode(X)\n",
    "    S = Z.mean\n",
    "    rec = model.decode(S)"
   ]
  },
  {
   "cell_type": "code",
   "execution_count": null,
   "id": "7c2882d3",
   "metadata": {
    "pycharm": {
     "name": "#%%\n"
    }
   },
   "outputs": [],
   "source": [
    "plt.figure()\n",
    "plt.axes(projection='3d')\n",
    "plt.plot(*X.cpu().t(), ls='', marker='.', c='k', ms=1, );\n",
    "plt.plot(*rec.cpu().t(), ls='', marker='.', c='C0', ms=1, );"
   ]
  },
  {
   "cell_type": "code",
   "execution_count": null,
   "id": "02fa2be1",
   "metadata": {
    "pycharm": {
     "name": "#%%\n"
    }
   },
   "outputs": [],
   "source": [
    "from src.maps import response_map_2d, compute_divergence_2d, compute_mean_curvature_2d, plot_map, plot_posterior_2d, collect_posterior_means"
   ]
  },
  {
   "cell_type": "code",
   "execution_count": null,
   "id": "db7360ce",
   "metadata": {
    "pycharm": {
     "name": "#%%\n"
    }
   },
   "outputs": [],
   "source": [
    "with torch.no_grad():\n",
    "    Z = collect_posterior_means(model, X, pbar=tqdm, batch_size=1024)\n",
    "Z.shape"
   ]
  },
  {
   "cell_type": "code",
   "execution_count": null,
   "id": "21ec2c6b",
   "metadata": {
    "pycharm": {
     "name": "#%%\n"
    }
   },
   "outputs": [],
   "source": [
    "r = 2\n",
    "n = 150\n",
    "extent = [-r, r, -r, r]\n",
    "umap = response_map_2d(model, 0, 1, n=n, extent=extent, batch_size=1024, device=device, pbar=tqdm)\n",
    "mmap = umap.norm(p=2,dim=-1)\n",
    "dmap = compute_divergence_2d(umap)\n",
    "cmap = compute_mean_curvature_2d(umap)"
   ]
  },
  {
   "cell_type": "code",
   "execution_count": null,
   "id": "f867ae6a",
   "metadata": {
    "pycharm": {
     "name": "#%%\n"
    }
   },
   "outputs": [],
   "source": [
    "im_kwargs = dict(aspect = 'auto', extent=extent)\n",
    "fg, axs = plt.subplots(1,4, figsize=(9,2.5),sharex=True, sharey=True)\n",
    "plot_map(mmap, fgax=(fg,axs[0]), rescale=False, colorbar=False, **im_kwargs);\n",
    "plt.title('Magnitude of Response')\n",
    "plot_map(dmap, fgax=(fg,axs[1]), cmap='seismic', colorbar=True, **im_kwargs);\n",
    "plt.title('Divergence')\n",
    "plot_map(cmap, fgax=(fg,axs[2]), cmap='viridis', colorbar=True, **im_kwargs);\n",
    "plt.title('Mean Curvature')\n",
    "plot_posterior_2d(S, 0, 1, fgax=(fg,axs[3]), bins=n//2, extent=extent)\n",
    "plt.title('Posterior')\n",
    "plt.tight_layout();"
   ]
  },
  {
   "cell_type": "code",
   "execution_count": null,
   "id": "5a65b8da",
   "metadata": {
    "pycharm": {
     "name": "#%%\n"
    }
   },
   "outputs": [],
   "source": []
  }
 ],
 "metadata": {
  "kernelspec": {
   "display_name": "Python 3",
   "language": "python",
   "name": "python3"
  },
  "language_info": {
   "codemirror_mode": {
    "name": "ipython",
    "version": 3
   },
   "file_extension": ".py",
   "mimetype": "text/x-python",
   "name": "python",
   "nbconvert_exporter": "python",
   "pygments_lexer": "ipython3",
   "version": "3.8.8"
  }
 },
 "nbformat": 4,
 "nbformat_minor": 5
}